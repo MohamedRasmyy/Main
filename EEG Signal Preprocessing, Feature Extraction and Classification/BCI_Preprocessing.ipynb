{
 "cells": [
  {
   "cell_type": "code",
   "execution_count": 1,
   "metadata": {},
   "outputs": [
    {
     "name": "stdout",
     "output_type": "stream",
     "text": [
      "After segmentation, the shape of the data: (32440, 1025)\n"
     ]
    }
   ],
   "source": [
    "import numpy as np\n",
    "from BCI_Functions import *\n",
    "dataset_1=np.load('1.npy')\n",
    "n_class=10\n",
    "no_feature=64\n",
    "segment_length=16\n",
    "data_seg=extract(dataset_1, n_classes=n_class, n_fea=no_feature, time_window=segment_length, moving= (segment_length/2))\n",
    "print('After segmentation, the shape of the data:', data_seg.shape)"
   ]
  },
  {
   "cell_type": "code",
   "execution_count": 2,
   "metadata": {},
   "outputs": [
    {
     "name": "stdout",
     "output_type": "stream",
     "text": [
      "The shape of training feature and label: (24330, 1024) (24330, 1) \n",
      "The shape of test feature and label: (8110, 1024) (8110, 1)\n"
     ]
    }
   ],
   "source": [
    "data_seg_feature=data_seg[:,:1024]\n",
    "data_seg_label=data_seg[:,1024:1025]\n",
    "from sklearn.model_selection import train_test_split\n",
    "train_feature,test_feature,train_label,test_label=train_test_split(data_seg_feature,data_seg_label,shuffle=True)\n",
    "print('The shape of training feature and label:', train_feature.shape, train_label.shape,\n",
    "     '\\nThe shape of test feature and label:', test_feature.shape, test_label.shape)\n"
   ]
  },
  {
   "cell_type": "markdown",
   "metadata": {},
   "source": [
    "# Z score Normalization"
   ]
  },
  {
   "cell_type": "code",
   "execution_count": 3,
   "metadata": {},
   "outputs": [
    {
     "name": "stdout",
     "output_type": "stream",
     "text": [
      "After normalization, the shape of training feature: (24330, 1024) \n",
      "After normalization, the shape of test feature: (8110, 1024)\n"
     ]
    }
   ],
   "source": [
    "from sklearn.preprocessing import StandardScaler\n",
    "scaler1=StandardScaler().fit(train_feature)\n",
    "train_fea_norm1=scaler1.transform(train_feature)\n",
    "test_fea_norm1=scaler1.transform(test_feature)\n",
    "print('After normalization, the shape of training feature:', train_fea_norm1.shape,\n",
    "      '\\nAfter normalization, the shape of test feature:', test_fea_norm1.shape)"
   ]
  },
  {
   "cell_type": "markdown",
   "metadata": {},
   "source": [
    "# Uniform normalization (L1)\n"
   ]
  },
  {
   "cell_type": "code",
   "execution_count": null,
   "metadata": {},
   "outputs": [],
   "source": [
    "from sklearn.preprocessing import Normalizer\n",
    "scaler2=Normalizer(norm='l1').fit(train_feature.T)\n",
    "train_fea_norm2=scaler2.transform(train_feature.T)\n",
    "test_fea_norm2=scaler2.transform(test_feature.T)\n",
    "train_fea_norm2=train_fea_norm2.T\n",
    "test_fea_norm2=test_fea_norm2.T"
   ]
  }
 ],
 "metadata": {
  "kernelspec": {
   "display_name": "Python 3",
   "language": "python",
   "name": "python3"
  },
  "language_info": {
   "codemirror_mode": {
    "name": "ipython",
    "version": 3
   },
   "file_extension": ".py",
   "mimetype": "text/x-python",
   "name": "python",
   "nbconvert_exporter": "python",
   "pygments_lexer": "ipython3",
   "version": "3.8.3"
  }
 },
 "nbformat": 4,
 "nbformat_minor": 4
}
