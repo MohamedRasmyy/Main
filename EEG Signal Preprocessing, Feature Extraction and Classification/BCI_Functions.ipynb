{
 "cells": [
  {
   "cell_type": "code",
   "execution_count": 2,
   "metadata": {},
   "outputs": [],
   "source": [
    "import numpy as np\n",
    "def extract(input,n_classes, n_fea, time_window, moving):\n",
    "    xx= input[:,:n_fea]\n",
    "    yy= input[:,n_fea:n_fea+1]\n",
    "    new_x=[]\n",
    "    new_y=[]\n",
    "    number=int((xx.shape[0]/moving)-1)\n",
    "    for i in range(number):\n",
    "        ave_y=np.average(yy[int(i*moving):int(i*moving+time_window)])\n",
    "        if ave_y in range(n_classes+1):\n",
    "            new_x.append(xx[int(i*moving):int(i*moving+time_window),:])\n",
    "            new_y.append(ave_y)\n",
    "        else:\n",
    "            new_x.append(xx[int(i*moving):int(i*moving+time_window),:])\n",
    "            new_y.append(0)\n",
    "    new_x=np.array(new_x)\n",
    "    new_x=new_x.reshape([-1,n_fea*time_window])\n",
    "    new_y=np.array(new_y)\n",
    "    new_y.shape=[new_y.shape[0],1]\n",
    "    data=np.hstack((new_x,new_y))\n",
    "    data=np.vstack((data,data[-1]))\n",
    "    return data"
   ]
  },
  {
   "cell_type": "code",
   "execution_count": null,
   "metadata": {},
   "outputs": [],
   "source": []
  },
  {
   "cell_type": "code",
   "execution_count": null,
   "metadata": {},
   "outputs": [],
   "source": []
  },
  {
   "cell_type": "code",
   "execution_count": null,
   "metadata": {},
   "outputs": [],
   "source": []
  },
  {
   "cell_type": "code",
   "execution_count": null,
   "metadata": {},
   "outputs": [],
   "source": []
  },
  {
   "cell_type": "code",
   "execution_count": null,
   "metadata": {},
   "outputs": [],
   "source": []
  },
  {
   "cell_type": "code",
   "execution_count": null,
   "metadata": {},
   "outputs": [],
   "source": []
  },
  {
   "cell_type": "code",
   "execution_count": null,
   "metadata": {},
   "outputs": [],
   "source": []
  }
 ],
 "metadata": {
  "kernelspec": {
   "display_name": "Python 3",
   "language": "python",
   "name": "python3"
  },
  "language_info": {
   "codemirror_mode": {
    "name": "ipython",
    "version": 3
   },
   "file_extension": ".py",
   "mimetype": "text/x-python",
   "name": "python",
   "nbconvert_exporter": "python",
   "pygments_lexer": "ipython3",
   "version": "3.8.3"
  }
 },
 "nbformat": 4,
 "nbformat_minor": 4
}
